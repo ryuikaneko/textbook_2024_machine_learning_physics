{
  "nbformat": 4,
  "nbformat_minor": 0,
  "metadata": {
    "colab": {
      "provenance": []
    },
    "kernelspec": {
      "name": "python3",
      "display_name": "Python 3"
    },
    "language_info": {
      "name": "python"
    }
  },
  "cells": [
    {
      "cell_type": "code",
      "execution_count": 1,
      "metadata": {
        "id": "nRtuGswQlrm3"
      },
      "outputs": [],
      "source": [
        "import numpy as np"
      ]
    },
    {
      "cell_type": "code",
      "source": [
        "def get_spin(state,site):\n",
        "    return (state>>site)&1"
      ],
      "metadata": {
        "id": "P-_3wK20lzXy"
      },
      "execution_count": 2,
      "outputs": []
    },
    {
      "cell_type": "code",
      "source": [
        "def flip_spin(state,site):\n",
        "    return state^(1<<site)"
      ],
      "metadata": {
        "id": "eKXbfNyJl0kT"
      },
      "execution_count": 3,
      "outputs": []
    },
    {
      "cell_type": "code",
      "source": [
        "def make_ham(L,g):\n",
        "    Nstate = 2**L\n",
        "    Ham = np.zeros((Nstate,Nstate),dtype=np.float64)\n",
        "    for a in range(Nstate):\n",
        "        for i in range(L):\n",
        "            if get_spin(a,i) == get_spin(a,(i+1)%L):\n",
        "                Ham[a,a] -= 1.0\n",
        "            else:\n",
        "                Ham[a,a] += 1.0\n",
        "        for i in range(L):\n",
        "            b = flip_spin(a,i)\n",
        "            Ham[a,b] -= g\n",
        "    return Ham"
      ],
      "metadata": {
        "id": "rCb1DO6Ml15O"
      },
      "execution_count": 4,
      "outputs": []
    },
    {
      "cell_type": "code",
      "source": [
        "def main():\n",
        "    L = 2; g = 1.0\n",
        "    Ham = make_ham(L,g)\n",
        "    print(\"Hamiltonian:\\n\",Ham)\n",
        "    Ene, Vec = np.linalg.eigh(Ham)\n",
        "    print(\"Ground state energy:\\n\",Ene[0])\n",
        "    print(\"Ground state vector:\\n\",Vec[:,0])"
      ],
      "metadata": {
        "id": "vLkVjcMzl3ND"
      },
      "execution_count": 5,
      "outputs": []
    },
    {
      "cell_type": "code",
      "source": [
        "main()"
      ],
      "metadata": {
        "colab": {
          "base_uri": "https://localhost:8080/"
        },
        "id": "Ejc_3NbXl4YR",
        "outputId": "d723a8c5-3706-4a71-c781-5ca3f81fc5e4"
      },
      "execution_count": 6,
      "outputs": [
        {
          "output_type": "stream",
          "name": "stdout",
          "text": [
            "Hamiltonian:\n",
            " [[-2. -1. -1.  0.]\n",
            " [-1.  2.  0. -1.]\n",
            " [-1.  0.  2. -1.]\n",
            " [ 0. -1. -1. -2.]]\n",
            "Ground state energy:\n",
            " -2.82842712474619\n",
            "Ground state vector:\n",
            " [-0.65328148 -0.27059805 -0.27059805 -0.65328148]\n"
          ]
        }
      ]
    },
    {
      "cell_type": "code",
      "source": [],
      "metadata": {
        "id": "UkPl_DzGl5uU"
      },
      "execution_count": 6,
      "outputs": []
    }
  ]
}