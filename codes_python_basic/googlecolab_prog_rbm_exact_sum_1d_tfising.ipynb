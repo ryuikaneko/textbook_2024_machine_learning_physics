{
  "nbformat": 4,
  "nbformat_minor": 0,
  "metadata": {
    "colab": {
      "provenance": []
    },
    "kernelspec": {
      "name": "python3",
      "display_name": "Python 3"
    },
    "language_info": {
      "name": "python"
    }
  },
  "cells": [
    {
      "cell_type": "code",
      "execution_count": 1,
      "metadata": {
        "id": "6Kp0faXpmKhi"
      },
      "outputs": [],
      "source": [
        "import numpy as np; from scipy.optimize import minimize"
      ]
    },
    {
      "cell_type": "code",
      "source": [
        "def get_spin(state,site):\n",
        "    return (state>>site)&1"
      ],
      "metadata": {
        "id": "9YbKpWsCmOJU"
      },
      "execution_count": 2,
      "outputs": []
    },
    {
      "cell_type": "code",
      "source": [
        "def flip_spin(state,site):\n",
        "    return state^(1<<site)"
      ],
      "metadata": {
        "id": "arEw0vc3mPTZ"
      },
      "execution_count": 3,
      "outputs": []
    },
    {
      "cell_type": "code",
      "source": [
        "def set_W(Lh,mu=0.0,sigma=0.01,seed=12345):\n",
        "    np.random.seed(seed=seed)\n",
        "    return np.random.normal(mu,sigma,Lh)"
      ],
      "metadata": {
        "id": "vIF_vPeemQae"
      },
      "execution_count": 4,
      "outputs": []
    },
    {
      "cell_type": "code",
      "source": [
        "def calc_ampRBM(L,Lh,W,state):\n",
        "    amp = 1.0\n",
        "    for i in range(Lh):\n",
        "        theta = 0.0\n",
        "        for j in range(L):\n",
        "            theta += W[(i-j+Lh)%Lh] * (1.0-2.0*get_spin(state,j))\n",
        "        amp *= 2.0 * np.cosh(theta)\n",
        "    return amp"
      ],
      "metadata": {
        "id": "wIE9PH2GmRa3"
      },
      "execution_count": 5,
      "outputs": []
    },
    {
      "cell_type": "code",
      "source": [
        "def calc_eneRBM(L,Lh,g,W):\n",
        "    Nstate = 2**L; psiIpsi = 0.0; psiHpsi = 0.0\n",
        "    for a in range(Nstate):\n",
        "        ampr = calc_ampRBM(L,Lh,W,a); ampl = ampr; ampl_ampr = ampl*ampr\n",
        "        psiIpsi += ampl_ampr\n",
        "        for i in range(L):\n",
        "            if get_spin(a,i) == get_spin(a,(i+1)%L):\n",
        "                psiHpsi -= ampl_ampr\n",
        "            else:\n",
        "                psiHpsi += ampl_ampr\n",
        "        for i in range(L):\n",
        "            b = flip_spin(a,i); ampl = calc_ampRBM(L,Lh,W,b)\n",
        "            psiHpsi += ampl*(-g)*ampr\n",
        "    return psiHpsi/psiIpsi"
      ],
      "metadata": {
        "id": "mhk2RHeCmSjl"
      },
      "execution_count": 6,
      "outputs": []
    },
    {
      "cell_type": "code",
      "source": [
        "def main():\n",
        "    L = 2; Lh = 1; g = 1.0; W = set_W(Lh)\n",
        "    result = minimize(lambda Wdummy: calc_eneRBM(L,Lh,g,Wdummy),W)\n",
        "    print(\"RBM energy:  \",result.fun); print(\"Exact energy:\",-2.0*np.sqrt(2.0))"
      ],
      "metadata": {
        "id": "J-xjmivsmUZD"
      },
      "execution_count": 7,
      "outputs": []
    },
    {
      "cell_type": "code",
      "source": [
        "main()"
      ],
      "metadata": {
        "id": "2JB0cszNmVmt",
        "outputId": "97b09c27-54f5-432d-b631-345993224fb4",
        "colab": {
          "base_uri": "https://localhost:8080/"
        }
      },
      "execution_count": 8,
      "outputs": [
        {
          "output_type": "stream",
          "name": "stdout",
          "text": [
            "RBM energy:   -2.8284271247368777\n",
            "Exact energy: -2.8284271247461903\n"
          ]
        }
      ]
    },
    {
      "cell_type": "code",
      "source": [],
      "metadata": {
        "id": "0zIWHHCimWhn"
      },
      "execution_count": 8,
      "outputs": []
    }
  ]
}